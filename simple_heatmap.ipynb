{
 "cells": [
  {
   "cell_type": "code",
   "execution_count": 1,
   "metadata": {},
   "outputs": [],
   "source": [
    "import pandas as pd\n",
    "import gmaps\n",
    "from lest_converter import lest_geo\n",
    "\n",
    "# INPUTS\n",
    "GOOGLE_API_KEY = 'AI...'  # Google API key\n",
    "VIEW_TYPE = 'county'  # Pick from ['city', 'country']; \n",
    "                      # 'city' is static and for close-up views, 'county' (default) is dissipating \n",
    "\n",
    "gmaps.configure(api_key=GOOGLE_API_KEY) \n",
    "\n",
    "def lest_to_centered_geo(xs: str, ys: str) -> (float, float):\n",
    "    \"\"\"\n",
    "    Covert L-Est coordinate ranges xs, ys to WGS84 centered coordinate (x, y).\n",
    "    :param xs: str, L-Est coordinate range (X), e.g. '6534000-6534499'  \n",
    "    :param ys: str, L-Est coordinate range (Y), e.g. '479000-479499'\n",
    "    :return: (float, float), s tuple of WGS84 coordinates, e.g. (58.94683558380662, 23.639500327741143)\n",
    "    \"\"\"\n",
    "    if type(xs) is str and type(ys) is str and '-' in xs and '-' in ys:\n",
    "        get_center_coordinate = lambda c: sum(map(int, c.strip().split('-')))/2\n",
    "        return lest_geo(get_center_coordinate(xs), get_center_coordinate(ys))\n",
    "    return (None, None)"
   ]
  },
  {
   "cell_type": "code",
   "execution_count": 2,
   "metadata": {},
   "outputs": [
    {
     "data": {
      "text/html": [
       "<div>\n",
       "<style scoped>\n",
       "    .dataframe tbody tr th:only-of-type {\n",
       "        vertical-align: middle;\n",
       "    }\n",
       "\n",
       "    .dataframe tbody tr th {\n",
       "        vertical-align: top;\n",
       "    }\n",
       "\n",
       "    .dataframe thead th {\n",
       "        text-align: right;\n",
       "    }\n",
       "</style>\n",
       "<table border=\"1\" class=\"dataframe\">\n",
       "  <thead>\n",
       "    <tr style=\"text-align: right;\">\n",
       "      <th></th>\n",
       "      <th>Lest_X</th>\n",
       "      <th>Lest_Y</th>\n",
       "      <th>X</th>\n",
       "      <th>Y</th>\n",
       "    </tr>\n",
       "  </thead>\n",
       "  <tbody>\n",
       "    <tr>\n",
       "      <th>0</th>\n",
       "      <td>6589000-6589499</td>\n",
       "      <td>686500-686999</td>\n",
       "      <td>59.399968</td>\n",
       "      <td>27.288689</td>\n",
       "    </tr>\n",
       "    <tr>\n",
       "      <th>1</th>\n",
       "      <td>6584500-6584999</td>\n",
       "      <td>539000-539499</td>\n",
       "      <td>59.398862</td>\n",
       "      <td>24.690903</td>\n",
       "    </tr>\n",
       "    <tr>\n",
       "      <th>2</th>\n",
       "      <td>6589500-6589999</td>\n",
       "      <td>737500-737999</td>\n",
       "      <td>59.378958</td>\n",
       "      <td>28.185276</td>\n",
       "    </tr>\n",
       "    <tr>\n",
       "      <th>3</th>\n",
       "      <td>6589000-6589499</td>\n",
       "      <td>543500-543999</td>\n",
       "      <td>59.438813</td>\n",
       "      <td>24.771020</td>\n",
       "    </tr>\n",
       "    <tr>\n",
       "      <th>4</th>\n",
       "      <td>6473000-6473999</td>\n",
       "      <td>527000-527999</td>\n",
       "      <td>58.401052</td>\n",
       "      <td>24.470347</td>\n",
       "    </tr>\n",
       "  </tbody>\n",
       "</table>\n",
       "</div>"
      ],
      "text/plain": [
       "                 Lest_X                Lest_Y          X          Y\n",
       "0  6589000-6589499       686500-686999         59.399968  27.288689\n",
       "1  6584500-6584999       539000-539499         59.398862  24.690903\n",
       "2  6589500-6589999       737500-737999         59.378958  28.185276\n",
       "3  6589000-6589499       543500-543999         59.438813  24.771020\n",
       "4  6473000-6473999       527000-527999         58.401052  24.470347"
      ]
     },
     "execution_count": 2,
     "metadata": {},
     "output_type": "execute_result"
    }
   ],
   "source": [
    "df_vara = pd.read_csv('vara_1.csv', header=0, sep='\\t', usecols=['Lest_X', 'Lest_Y'])\n",
    "df_avalik = pd.read_csv('avalik_1.csv', header=0, sep='\\t', usecols=['Lest_X', 'Lest_Y'])\n",
    "\n",
    "df = pd.concat([df_vara, df_avalik])\n",
    "\n",
    "# Convert L-Est coordinate ranges (df[['Lest_X', 'Lest_Y']]) to centered WGS84 coordinate (df[['X', 'Y']]).\n",
    "df['X'] = df.apply(lambda row: lest_to_centered_geo(row['Lest_X'], row['Lest_Y'])[0], axis=1)\n",
    "df['Y'] = df.apply(lambda row: lest_to_centered_geo(row['Lest_X'], row['Lest_Y'])[1], axis=1)\n",
    "df = df.dropna(subset=['X', 'Y'])  # Drop rows where 'X'|'Y' is NaN; gmaps doesn't support NaN-coordinates.\n",
    "df.head()"
   ]
  },
  {
   "cell_type": "code",
   "execution_count": 3,
   "metadata": {
    "scrolled": false
   },
   "outputs": [
    {
     "data": {
      "application/vnd.jupyter.widget-view+json": {
       "model_id": "c8bbc9bd0c7c4f0fa87a9faaaabec913",
       "version_major": 2,
       "version_minor": 0
      },
      "text/html": [
       "<p>Failed to display Jupyter Widget of type <code>Figure</code>.</p>\n",
       "<p>\n",
       "  If you're reading this message in Jupyter Notebook or JupyterLab, it may mean\n",
       "  that the widgets JavaScript is still loading. If this message persists, it\n",
       "  likely means that the widgets JavaScript library is either not installed or\n",
       "  not enabled. See the <a href=\"https://ipywidgets.readthedocs.io/en/stable/user_install.html\">Jupyter\n",
       "  Widgets Documentation</a> for setup instructions.\n",
       "</p>\n",
       "<p>\n",
       "  If you're reading this message in another notebook frontend (for example, a static\n",
       "  rendering on GitHub or <a href=\"https://nbviewer.jupyter.org/\">NBViewer</a>),\n",
       "  it may mean that your frontend doesn't currently support widgets.\n",
       "</p>\n"
      ],
      "text/plain": [
       "Figure()"
      ]
     },
     "metadata": {},
     "output_type": "display_data"
    }
   ],
   "source": [
    "fig = gmaps.figure()\n",
    "locations = df[['X', 'Y']]\n",
    "example_params = {\n",
    "    'city': {'point_radius': 0.0075, 'max_intensity': 150, 'dissipating': False},\n",
    "    'county': {'point_radius': 29, 'max_intensity': 150, 'dissipating': True}\n",
    "}\n",
    "heatmap_layer = gmaps.heatmap_layer(locations, **example_params[VIEW_TYPE])\n",
    "fig.add_layer(heatmap_layer)\n",
    "fig"
   ]
  }
 ],
 "metadata": {
  "kernelspec": {
   "display_name": "Python 3",
   "language": "python",
   "name": "python3"
  },
  "language_info": {
   "codemirror_mode": {
    "name": "ipython",
    "version": 3
   },
   "file_extension": ".py",
   "mimetype": "text/x-python",
   "name": "python",
   "nbconvert_exporter": "python",
   "pygments_lexer": "ipython3",
   "version": "3.6.2"
  }
 },
 "nbformat": 4,
 "nbformat_minor": 2
}
